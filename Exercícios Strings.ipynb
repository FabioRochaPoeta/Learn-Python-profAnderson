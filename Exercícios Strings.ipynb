{
 "cells": [
  {
   "cell_type": "markdown",
   "metadata": {},
   "source": [
    "<img src='Logo-PLAY.png' height=\"200\" width=\"150\" align=\"left\" />\n",
    "<img src='Logo-ICA.jpg' height=\"275\" width=\"175\" align=\"right\" />"
   ]
  },
  {
   "cell_type": "markdown",
   "metadata": {},
   "source": [
    "# Teste extra - Strings"
   ]
  },
  {
   "cell_type": "markdown",
   "metadata": {},
   "source": [
    "1. No livro Make Way for Ducklings de Robert McCloskey, os patinhos são chamados de Jack, Kack, Lack, Mack, Nack, Ouack, Pack, e Quack. Esse laço tenta imprimir esses nomes ordenadamente. \n",
    "        \n",
    "        prefixes = \"JKLMNOPQ\"\n",
    "        suffix = \"ack\"\n",
    "\n",
    "        for p in prefixes:\n",
    "            print(p + suffix)\n",
    "\n",
    "é claro que esse programa tem problemas pois Ouack e Quack não são escritos corretamente. Você consegue consertar o programa?"
   ]
  },
  {
   "cell_type": "code",
   "execution_count": 14,
   "metadata": {},
   "outputs": [],
   "source": [
    "# Faça as correções nesta célula"
   ]
  },
  {
   "cell_type": "markdown",
   "metadata": {},
   "source": [
    "2. Atribua a uma variável em seu programa um string entre aspas triplas contendo seu parágrafo favorito de um poema, discurso, receita de bolo, etc. Escreva uma função que remove toda a pontuação de um string e conta o número de palavras no string que contém a letra ‘e’. Seu programa deve imprimir uma análise desse texto da seguinte forma:\n",
    "\n",
    "        Seu texto contém 243 palavras, das quais 109 (44.8%) contém um 'e'."
   ]
  },
  {
   "cell_type": "code",
   "execution_count": 15,
   "metadata": {},
   "outputs": [],
   "source": [
    "# Faça o seu programa aqui"
   ]
  },
  {
   "cell_type": "markdown",
   "metadata": {},
   "source": [
    "3. Imprima de forma organizada e formatada uma tabela de multiplicação, até 12 x 12."
   ]
  },
  {
   "cell_type": "code",
   "execution_count": 16,
   "metadata": {},
   "outputs": [],
   "source": [
    "# Faça o seu programa aqui"
   ]
  },
  {
   "cell_type": "markdown",
   "metadata": {},
   "source": [
    "4. Escreva uma função reverse() que recebe um string e o retorna invertido."
   ]
  },
  {
   "cell_type": "code",
   "execution_count": null,
   "metadata": {},
   "outputs": [],
   "source": [
    "# Faça o seu programa aqui"
   ]
  },
  {
   "cell_type": "markdown",
   "metadata": {},
   "source": [
    "5. Escreva uma função que reconhece palíndromes. (Dica: use a sua função reverse)."
   ]
  },
  {
   "cell_type": "code",
   "execution_count": null,
   "metadata": {},
   "outputs": [],
   "source": [
    "# Faça o seu programa aqui"
   ]
  },
  {
   "cell_type": "markdown",
   "metadata": {},
   "source": [
    "6. Escreva uma função que remove a primeira ocorrência de um string de outro string."
   ]
  },
  {
   "cell_type": "code",
   "execution_count": null,
   "metadata": {},
   "outputs": [],
   "source": [
    "# Faça o seu programa aqui"
   ]
  }
 ],
 "metadata": {
  "kernelspec": {
   "display_name": "Python 3",
   "language": "python",
   "name": "python3"
  },
  "language_info": {
   "codemirror_mode": {
    "name": "ipython",
    "version": 3
   },
   "file_extension": ".py",
   "mimetype": "text/x-python",
   "name": "python",
   "nbconvert_exporter": "python",
   "pygments_lexer": "ipython3",
   "version": "3.6.5"
  }
 },
 "nbformat": 4,
 "nbformat_minor": 2
}
