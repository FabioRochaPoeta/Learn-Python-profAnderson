{
 "cells": [
  {
   "cell_type": "markdown",
   "metadata": {},
   "source": [
    "# Estruturas Condicionais\n",
    "\n",
    "As estruturas condicionais são ferramentas das linguagens que possibilitam a escolha de um grupo de ações e estruturas a serem executadas quando determinadas condições são ou não satisfeitas. Elas são muito utilizadas no dia-a-dia, vem nos auxiliar na tomada de decisões, por exemplo: fazer login de usuário, se o login e senha estiverem corretos, é liberado o acesso se não, é emitido  uma mensagem de erro. \n",
    "\n",
    "- **if** em Python nos permite contar ao computador para executar ações alternativas com base em um determinado conjunto de resultados. Verbalmente, podemos imaginar que estamos informando o computador: \"Ei, se isso caso acontecer, execute alguma ação\"\n",
    "\n",
    "- Podemos então expandir a idéia com declarações **elif** e **else**, o que nos permite contar ao computador: \"Ei, se esse caso acontecer, execute alguma ação. Caso contrário, se aquilo dali acontecer, execute alguma outra ação. Caso contrário, nenhum dos casos acima aconteceu, execute esta ação\"\n",
    "\n",
    "\n",
    "Avançemos e vejamos o formato de sintaxe para as instruções if para ter uma idéia melhor disso:\n",
    "\n",
    "     if condição_1:\n",
    "         executar ação 1\n",
    "     elif condição_2:\n",
    "         execute ação 2\n",
    "     else:\n",
    "         execute a ação 3"
   ]
  },
  {
   "cell_type": "markdown",
   "metadata": {},
   "source": [
    "### if\n",
    "\n",
    "A instrução **if** ( se ) é a estrutura de teste mais básica e é encontrada em todas as linguagens (com sintaxes diferentes). Ela permite executar uma série de instruções caso uma condição se realize. "
   ]
  },
  {
   "cell_type": "markdown",
   "metadata": {},
   "source": [
    "### Exemplo 1"
   ]
  },
  {
   "cell_type": "code",
   "execution_count": 37,
   "metadata": {},
   "outputs": [
    {
     "name": "stdout",
     "output_type": "stream",
     "text": [
      "x é verdadeiro (True)!\n"
     ]
    }
   ],
   "source": [
    "if True:\n",
    "    print('x é verdadeiro (True)!')"
   ]
  },
  {
   "cell_type": "code",
   "execution_count": 38,
   "metadata": {},
   "outputs": [],
   "source": [
    "if False:\n",
    "    print(\"x é falso (False)\")"
   ]
  },
  {
   "cell_type": "markdown",
   "metadata": {},
   "source": [
    "### else\n",
    "A instrução **if** em sua forma básica só testa uma condição. Na maioria das vezes, gostaríamos de poder escolher as instruções a serem executadas em caso do não cumprimento da condição. \n",
    "\n",
    "**Por exemplo: vamos supor que um estudante de mestrado envie um artigo cientifico para um estudante de letras para que o mesmo faça correções, o estudante irá ler o artigo e verificar se precisa ou nao de correções, casdo precise, vai efetuar as correções possíveis, caso não vai enviar uma mensagem para o mestrando informando que o artigo ja está pronto para a submissão e não precissa de ajustes.**  \n",
    "\n",
    "     if precisa_de_correções:\n",
    "         executar (realizar correções e enviar artigo corrigido)\n",
    "     else:\n",
    "         execute (enviar mensagem informando que o artigo não precisa de correções e ja pode ser submetido)\n",
    "\n",
    "\n",
    "A expressão **else** permite executar outra série de instruções em caso do não cumprimento da condição testada pelo **if**. A sintaxe desta expressão pode ser observada no exemplo abaixo: "
   ]
  },
  {
   "cell_type": "markdown",
   "metadata": {},
   "source": [
    "### Exemplo 2"
   ]
  },
  {
   "cell_type": "code",
   "execution_count": 49,
   "metadata": {},
   "outputs": [
    {
     "name": "stdout",
     "output_type": "stream",
     "text": [
      "Neste caso x é falso (False)\n"
     ]
    }
   ],
   "source": [
    "x = False\n",
    "\n",
    "if x:\n",
    "    print('Neste caso x é verdadeiro')\n",
    "else:\n",
    "    print('Neste caso x é falso (False)')"
   ]
  },
  {
   "cell_type": "markdown",
   "metadata": {},
   "source": [
    "### elif - Múltiplos ramos \n",
    "Vamos ver de forma mais completa de quão longe if, elif, e else podem nos levar! Nós escrevemos isso em uma estrutura aninhada. Tome nota de como o if, elif e else se alinham no código. Isso pode ajudá-lo a ver o que se relaciona com o elif ou outras afirmações.\n",
    "\n",
    "Vamos reintroduzir uma sintaxe de comparação para o Python."
   ]
  },
  {
   "cell_type": "code",
   "execution_count": 40,
   "metadata": {},
   "outputs": [
    {
     "name": "stdout",
     "output_type": "stream",
     "text": [
      "Bem vindo ao banco!\n"
     ]
    }
   ],
   "source": [
    "local = 'Banco'\n",
    "\n",
    "if local == 'Shopping':\n",
    "    print('Bem vindo ao shopping!')\n",
    "elif local == 'Banco':\n",
    "    print('Bem vindo ao banco!')\n",
    "else:\n",
    "    print(\"Como vai você?\")"
   ]
  },
  {
   "cell_type": "markdown",
   "metadata": {},
   "source": [
    "Observe como **as declarações if aninhadas são verificadas** até que um booleano **True** faça com que o código aninhado abaixo seja executado. Você também deve notar que você pode colocar as declarações elif quanto desejar antes de fechar com outra."
   ]
  },
  {
   "cell_type": "markdown",
   "metadata": {},
   "source": [
    "### Exemplo 3\n",
    "Faça uma instrução para se entre com um valor e verifique se ele é par ou impar.( **Obs.**: para verificar se um número é par basta verificar se o resto da sua divisão por 2 é igual a 0)"
   ]
  },
  {
   "cell_type": "code",
   "execution_count": 42,
   "metadata": {
    "scrolled": true
   },
   "outputs": [
    {
     "name": "stdout",
     "output_type": "stream",
     "text": [
      "Entre com um número inteiro qualquer: \n",
      "10\n",
      "O número digitado é par!\n"
     ]
    }
   ],
   "source": [
    "print('Entre com um número inteiro qualquer: ')\n",
    "numero = input()\n",
    "numero = int(numero)\n",
    "if (numero % 2) == 0:\n",
    "    print('O número digitado é par!')\n",
    "\n",
    "else:\n",
    "    print('O número digitado é impar!')"
   ]
  },
  {
   "cell_type": "markdown",
   "metadata": {},
   "source": [
    "**Obs**: Lembrando que quando utilizamos o comando input ( ), o nosso programa recebe um valor do tipo string e devemos convertê-lo para o formato desejado"
   ]
  },
  {
   "cell_type": "markdown",
   "metadata": {},
   "source": [
    "## Indentação\n",
    "\n",
    "É importante manter uma boa compreensão de como o recuo funciona no Python para manter a estrutura e a ordem do seu código. Vamos voltar a tocar neste tópico quando começarmos a criar funções!"
   ]
  }
 ],
 "metadata": {
  "kernelspec": {
   "display_name": "Python 3",
   "language": "python",
   "name": "python3"
  },
  "language_info": {
   "codemirror_mode": {
    "name": "ipython",
    "version": 3
   },
   "file_extension": ".py",
   "mimetype": "text/x-python",
   "name": "python",
   "nbconvert_exporter": "python",
   "pygments_lexer": "ipython3",
   "version": "3.6.9"
  }
 },
 "nbformat": 4,
 "nbformat_minor": 2
}
