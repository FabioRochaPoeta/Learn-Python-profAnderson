{
 "cells": [
  {
   "cell_type": "markdown",
   "metadata": {},
   "source": [
    "# Formatação de impressão\n",
    "\n",
    "O exemplo mais básico de uma declaração de impressão é:"
   ]
  },
  {
   "cell_type": "code",
   "execution_count": 1,
   "metadata": {},
   "outputs": [
    {
     "name": "stdout",
     "output_type": "stream",
     "text": [
      "Isso é uma frase\n"
     ]
    }
   ],
   "source": [
    "print('Isso é uma frase')"
   ]
  },
  {
   "cell_type": "markdown",
   "metadata": {},
   "source": [
    "## Strings\n",
    "Você pode usar o %s para formatar strings em suas instruções de impressão."
   ]
  },
  {
   "cell_type": "code",
   "execution_count": 2,
   "metadata": {},
   "outputs": [
    {
     "name": "stdout",
     "output_type": "stream",
     "text": [
      "Isso é uma frase\n"
     ]
    }
   ],
   "source": [
    "s = 'frase'\n",
    "print('Isso é uma %s' %(s))"
   ]
  },
  {
   "cell_type": "markdown",
   "metadata": {},
   "source": [
    "## Números de ponto flutuante\n",
    "Os números de ponto flutuante usam o formato %n1.n2f\n",
    "- n1 é o número mínimo total de dígitos que a cadeia deve conter (estes podem ser preenchidos com espaço em branco se o número inteiro não tiver esses muitos dígitos. \n",
    "- n2 é a quantidade de casas decimais que serão mostradas\n",
    "\n",
    "Vamos ver alguns exemplos:"
   ]
  },
  {
   "cell_type": "code",
   "execution_count": 5,
   "metadata": {},
   "outputs": [
    {
     "name": "stdout",
     "output_type": "stream",
     "text": [
      "Números de ponto flutuante: 13.14\n"
     ]
    }
   ],
   "source": [
    "print('Números de ponto flutuante: %1.2f' %(13.144))"
   ]
  },
  {
   "cell_type": "markdown",
   "metadata": {},
   "source": [
    "**Observação:** é importante observarmos que a regra da matemática de aproximação numérica é respeitada"
   ]
  },
  {
   "cell_type": "code",
   "execution_count": 7,
   "metadata": {
    "scrolled": true
   },
   "outputs": [
    {
     "name": "stdout",
     "output_type": "stream",
     "text": [
      "Números de ponto flutuante: 13.15\n"
     ]
    }
   ],
   "source": [
    "print('Números de ponto flutuante: %1.2f' %(13.146))"
   ]
  },
  {
   "cell_type": "code",
   "execution_count": 8,
   "metadata": {},
   "outputs": [
    {
     "name": "stdout",
     "output_type": "stream",
     "text": [
      "Números de ponto flutuante: 13\n"
     ]
    }
   ],
   "source": [
    "print('Números de ponto flutuante: %1.0f' %(13.144))"
   ]
  },
  {
   "cell_type": "code",
   "execution_count": 9,
   "metadata": {},
   "outputs": [
    {
     "name": "stdout",
     "output_type": "stream",
     "text": [
      "Números de ponto flutuante: 13.14400\n"
     ]
    }
   ],
   "source": [
    "print('Números de ponto flutuante: %1.5f' %(13.144))"
   ]
  },
  {
   "cell_type": "code",
   "execution_count": 10,
   "metadata": {},
   "outputs": [
    {
     "name": "stdout",
     "output_type": "stream",
     "text": [
      "Números de ponto flutuante:      13.14\n"
     ]
    }
   ],
   "source": [
    "print('Números de ponto flutuante: %10.2f' %(13.144))"
   ]
  },
  {
   "cell_type": "code",
   "execution_count": 11,
   "metadata": {},
   "outputs": [
    {
     "name": "stdout",
     "output_type": "stream",
     "text": [
      "Números de ponto flutuante:                     13.14\n"
     ]
    }
   ],
   "source": [
    "print('Números de ponto flutuante: %25.2f' %(13.144))"
   ]
  },
  {
   "cell_type": "markdown",
   "metadata": {},
   "source": [
    "\n",
    "## Métodos de formato de conversão\n",
    "Deve notar-se que dois métodos% s e %r realmente convertem qualquer objeto Python em uma string usando dois métodos separados: str() e repr(). Aprenderemos mais sobre essas funções mais tarde no curso, mas você deve notar que você pode realmente passar quase qualquer objeto Python com esses dois métodos e funcionará:"
   ]
  },
  {
   "cell_type": "code",
   "execution_count": 12,
   "metadata": {},
   "outputs": [
    {
     "name": "stdout",
     "output_type": "stream",
     "text": [
      "Isso é um número: 123.1. Isso é uma string: oi\n"
     ]
    }
   ],
   "source": [
    "print('Isso é um número: %s. Isso é uma string: %s' %(123.1,'oi'))"
   ]
  },
  {
   "cell_type": "code",
   "execution_count": 13,
   "metadata": {},
   "outputs": [
    {
     "name": "stdout",
     "output_type": "stream",
     "text": [
      "Isso é um número: 123.1. Isso é uma string: 'oi'\n"
     ]
    }
   ],
   "source": [
    "print('Isso é um número: %r. Isso é uma string: %r' %(123.1,'oi'))"
   ]
  },
  {
   "cell_type": "markdown",
   "metadata": {},
   "source": [
    "\n",
    "## Formatação múltipla\n",
    "Passe uma tupla para junto com o símbolo do módulo para colocar vários formatos nas suas declarações de impressão:"
   ]
  },
  {
   "cell_type": "code",
   "execution_count": 14,
   "metadata": {},
   "outputs": [
    {
     "name": "stdout",
     "output_type": "stream",
     "text": [
      "Primeiro: oi!, Segundo: 3.14, Terceiro: 22\n"
     ]
    }
   ],
   "source": [
    "print('Primeiro: %s, Segundo: %1.2f, Terceiro: %r' %('oi!',3.14,22))"
   ]
  },
  {
   "cell_type": "markdown",
   "metadata": {},
   "source": [
    "\n",
    "\n",
    "# Usando o método string.format ()\n",
    "A melhor maneira de formatar objetos em suas strings para instruções de impressão é usar o método format(). A sintaxe é:\n",
    "\n",
    "     'String aqui {var1} e também {var2}'.format(var1 = 'something1', var2 = 'something2')\n",
    "    \n",
    "Vamos ver alguns exemplos:"
   ]
  },
  {
   "cell_type": "code",
   "execution_count": 17,
   "metadata": {},
   "outputs": [
    {
     "name": "stdout",
     "output_type": "stream",
     "text": [
      "Aqui vamos inserir uma string\n"
     ]
    }
   ],
   "source": [
    "print('Aqui vamos {p} uma string'.format(p='inserir'))"
   ]
  },
  {
   "cell_type": "code",
   "execution_count": 18,
   "metadata": {},
   "outputs": [
    {
     "name": "stdout",
     "output_type": "stream",
     "text": [
      "Um: oi!, Dois: oi!, Três: oi!\n"
     ]
    }
   ],
   "source": [
    "print('Um: {p}, Dois: {p}, Três: {p}'.format(p='oi!'))"
   ]
  },
  {
   "cell_type": "code",
   "execution_count": 19,
   "metadata": {},
   "outputs": [
    {
     "name": "stdout",
     "output_type": "stream",
     "text": [
      "Objeto 1: 1, Objeto 2: dois, Objeto 3: 12.3\n"
     ]
    }
   ],
   "source": [
    "print('Objeto 1: {a}, Objeto 2: {b}, Objeto 3: {c}'.format(a=1,b='dois',c=12.3))"
   ]
  },
  {
   "cell_type": "markdown",
   "metadata": {},
   "source": [
    "Esse é o básico da formatação de sequência de caracteres!"
   ]
  },
  {
   "cell_type": "markdown",
   "metadata": {},
   "source": [
    "# Método input()\n",
    "\n",
    "É um método utilizado para que o o usuário entre com um valor "
   ]
  },
  {
   "cell_type": "code",
   "execution_count": 20,
   "metadata": {},
   "outputs": [
    {
     "name": "stdout",
     "output_type": "stream",
     "text": [
      "hoje\n"
     ]
    }
   ],
   "source": [
    "inputs = input()"
   ]
  },
  {
   "cell_type": "code",
   "execution_count": 21,
   "metadata": {},
   "outputs": [
    {
     "data": {
      "text/plain": [
       "'hoje'"
      ]
     },
     "execution_count": 21,
     "metadata": {},
     "output_type": "execute_result"
    }
   ],
   "source": [
    "inputs"
   ]
  },
  {
   "cell_type": "code",
   "execution_count": 23,
   "metadata": {},
   "outputs": [
    {
     "name": "stdout",
     "output_type": "stream",
     "text": [
      "3\n"
     ]
    }
   ],
   "source": [
    "inputs_2 = input()"
   ]
  },
  {
   "cell_type": "code",
   "execution_count": 24,
   "metadata": {},
   "outputs": [
    {
     "data": {
      "text/plain": [
       "str"
      ]
     },
     "execution_count": 24,
     "metadata": {},
     "output_type": "execute_result"
    }
   ],
   "source": [
    "type(inputs_2)"
   ]
  }
 ],
 "metadata": {
  "kernelspec": {
   "display_name": "Python 3",
   "language": "python",
   "name": "python3"
  },
  "language_info": {
   "codemirror_mode": {
    "name": "ipython",
    "version": 3
   },
   "file_extension": ".py",
   "mimetype": "text/x-python",
   "name": "python",
   "nbconvert_exporter": "python",
   "pygments_lexer": "ipython3",
   "version": "3.6.9"
  }
 },
 "nbformat": 4,
 "nbformat_minor": 1
}
